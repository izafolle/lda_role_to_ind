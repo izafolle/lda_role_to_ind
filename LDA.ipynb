{
 "cells": [
  {
   "cell_type": "code",
   "execution_count": 1,
   "metadata": {
    "collapsed": true
   },
   "outputs": [],
   "source": [
    "import pickle\n",
    "import os"
   ]
  },
  {
   "cell_type": "code",
   "execution_count": 2,
   "metadata": {
    "collapsed": true
   },
   "outputs": [],
   "source": [
    "%run processdata"
   ]
  },
  {
   "cell_type": "code",
   "execution_count": 3,
   "metadata": {
    "collapsed": true
   },
   "outputs": [],
   "source": [
    "%run count_collapse"
   ]
  },
  {
   "cell_type": "code",
   "execution_count": 4,
   "metadata": {
    "collapsed": true
   },
   "outputs": [],
   "source": [
    "%run feature_vector"
   ]
  },
  {
   "cell_type": "code",
   "execution_count": 5,
   "metadata": {
    "collapsed": true
   },
   "outputs": [],
   "source": [
    "%run guess_topic"
   ]
  },
  {
   "cell_type": "code",
   "execution_count": 6,
   "metadata": {
    "collapsed": true
   },
   "outputs": [],
   "source": [
    "%run irrelevant_features"
   ]
  },
  {
   "cell_type": "code",
   "execution_count": 7,
   "metadata": {
    "collapsed": true
   },
   "outputs": [],
   "source": [
    "%run train_lda"
   ]
  },
  {
   "cell_type": "code",
   "execution_count": 10,
   "metadata": {
    "collapsed": false
   },
   "outputs": [],
   "source": [
    "# Usage: first command line argument is the directory with the csv files under the cwd, second is keywords 'test'/'train'.\n",
    "dirname =  'testdata' #sys.argv[1]  # where is the data\n",
    "legend = {}\n",
    "train_test = 'train' #sys.argv[2]  # if a model is already trained already then use 'test' otherwise use 'train'"
   ]
  },
  {
   "cell_type": "code",
   "execution_count": 11,
   "metadata": {
    "collapsed": false
   },
   "outputs": [
    {
     "name": "stdout",
     "output_type": "stream",
     "text": [
      "Currently on file: testdata\n",
      "Training LDA model...\n"
     ]
    }
   ],
   "source": [
    "if train_test == 'train':\n",
    "    for filename in os.listdir(dirname):\n",
    "        if filename.startswith('.') == False:\n",
    "            print('Currently on file: %s' % filename)\n",
    "            ind_vectors, i_features = processdata((os.getcwd() + '/' + dirname + '/' + filename), 'train')\n",
    "    industry_words = count_collapse(ind_vectors)\n",
    "    indtf_features = feature_vector(i_features, industry_words)\n",
    "    indtf_samples = [indtf_features[feature] for feature in indtf_features if sum(indtf_features[feature])>0]\n",
    "    indtf_labels = [feature for feature in indtf_features if sum(indtf_features[feature])>0]\n",
    "    ilda = train_lda(indtf_samples)\n",
    "elif train_test == 'test':\n",
    "    ind_vectors, i_features = processdata(mode =  'test')\n",
    "    industry_words = count_collapse(ind_vectors)\n",
    "    indtf_features = feature_vector(i_features, industry_words)\n",
    "    indtf_samples = [indtf_features[feature] for feature in indtf_features if sum(indtf_features[feature])>0]\n",
    "    indtf_labels = [feature for feature in indtf_features if sum(indtf_features[feature])>0]\n",
    "    ilda = pickle.load(open(\"ilda.data\", \"rb\"))\n",
    "    irrelevant = irrelevant_features(indtf_features)\n",
    "    transformed = ilda.transform(indtf_samples)\n",
    "else:\n",
    "    print('Usage: location of directory, ')\n",
    "#features_vector = pickle.load(open(\"features_vector.data\", \"rb\"))"
   ]
  },
  {
   "cell_type": "code",
   "execution_count": null,
   "metadata": {
    "collapsed": true
   },
   "outputs": [],
   "source": [
    "# to get sample output:\n",
    "    print(guess_topic(lda=ilda, query=\"project manager\", features_vec=indtf_features, irrelevant=irrelevant, verbose=True))"
   ]
  }
 ],
 "metadata": {
  "anaconda-cloud": {},
  "kernelspec": {
   "display_name": "Python [conda env:noemi-lda-env]",
   "language": "python",
   "name": "conda-env-noemi-lda-env-py"
  },
  "language_info": {
   "codemirror_mode": {
    "name": "ipython",
    "version": 3.0
   },
   "file_extension": ".py",
   "mimetype": "text/x-python",
   "name": "python",
   "nbconvert_exporter": "python",
   "pygments_lexer": "ipython3",
   "version": "3.5.2"
  }
 },
 "nbformat": 4,
 "nbformat_minor": 0
}